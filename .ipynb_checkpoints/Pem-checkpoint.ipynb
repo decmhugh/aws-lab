{
 "cells": [
  {
   "cell_type": "code",
   "execution_count": 1,
   "id": "8254843f-f88f-4ec5-88dc-aafc64bef45a",
   "metadata": {},
   "outputs": [],
   "source": [
    "import OpenSSL\n",
    "from OpenSSL._util import lib as _lib, ffi as _ffi\n",
    "from OpenSSL.crypto import _new_mem_buf, _bio_to_string"
   ]
  },
  {
   "cell_type": "code",
   "execution_count": 2,
   "id": "b7b484af-8737-4378-b252-bd47acd7cd33",
   "metadata": {},
   "outputs": [
    {
     "ename": "NameError",
     "evalue": "name 'n' is not defined",
     "output_type": "error",
     "traceback": [
      "\u001b[1;31m---------------------------------------------------------------------------\u001b[0m",
      "\u001b[1;31mNameError\u001b[0m                                 Traceback (most recent call last)",
      "Cell \u001b[1;32mIn[2], line 7\u001b[0m\n\u001b[0;32m      4\u001b[0m helper \u001b[38;5;241m=\u001b[39m OpenSSL\u001b[38;5;241m.\u001b[39mcrypto\u001b[38;5;241m.\u001b[39m_PassphraseHelper(OpenSSL\u001b[38;5;241m.\u001b[39mcrypto\u001b[38;5;241m.\u001b[39mFILETYPE_PEM, \u001b[38;5;28;01mNone\u001b[39;00m)\n\u001b[0;32m      6\u001b[0m pk \u001b[38;5;241m=\u001b[39m OpenSSL\u001b[38;5;241m.\u001b[39mcrypto\u001b[38;5;241m.\u001b[39mPKey()\n\u001b[1;32m----> 7\u001b[0m pk\u001b[38;5;241m.\u001b[39mgenerate_key(OpenSSL\u001b[38;5;241m.\u001b[39mcrypto\u001b[38;5;241m.\u001b[39mTYPE_RSA, \u001b[43mn\u001b[49m)\n\u001b[0;32m      9\u001b[0m \u001b[38;5;66;03m# Convert from EVP_PKEY type to RSA type\u001b[39;00m\n\u001b[0;32m     10\u001b[0m rsa_pkey \u001b[38;5;241m=\u001b[39m _lib\u001b[38;5;241m.\u001b[39mEVP_PKEY_get1_RSA(pk\u001b[38;5;241m.\u001b[39m_pkey)\n",
      "\u001b[1;31mNameError\u001b[0m: name 'n' is not defined"
     ]
    }
   ],
   "source": [
    "bio_pub = _new_mem_buf()  # Memory buffers to write to\n",
    "bio_priv = _new_mem_buf()\n",
    "\n",
    "helper = OpenSSL.crypto._PassphraseHelper(OpenSSL.crypto.FILETYPE_PEM, None)\n",
    "\n",
    "pk = OpenSSL.crypto.PKey()\n",
    "pk.generate_key(OpenSSL.crypto.TYPE_RSA, n)\n",
    "\n",
    "# Convert from EVP_PKEY type to RSA type\n",
    "rsa_pkey = _lib.EVP_PKEY_get1_RSA(pk._pkey)\n",
    "\n",
    "\n",
    "result_code = _lib.PEM_write_bio_RSAPublicKey(bio_pub, rsa_pkey)\n",
    "result_code = _lib.PEM_write_bio_RSAPrivateKey(\n",
    "    bio_priv, rsa_pkey, _ffi.NULL, _ffi.NULL, 0,\n",
    "    helper.callback, helper.callback_args)"
   ]
  },
  {
   "cell_type": "code",
   "execution_count": null,
   "id": "3f73c608-bbea-48f9-82f0-3e271961a947",
   "metadata": {},
   "outputs": [],
   "source": []
  }
 ],
 "metadata": {
  "kernelspec": {
   "display_name": "Python 3 (ipykernel)",
   "language": "python",
   "name": "python3"
  },
  "language_info": {
   "codemirror_mode": {
    "name": "ipython",
    "version": 3
   },
   "file_extension": ".py",
   "mimetype": "text/x-python",
   "name": "python",
   "nbconvert_exporter": "python",
   "pygments_lexer": "ipython3",
   "version": "3.11.9"
  }
 },
 "nbformat": 4,
 "nbformat_minor": 5
}
